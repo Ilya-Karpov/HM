{
 "cells": [
  {
   "cell_type": "markdown",
   "id": "1c5c2d5d",
   "metadata": {},
   "source": [
    "Задание 1"
   ]
  },
  {
   "cell_type": "code",
   "execution_count": 89,
   "id": "dc4b2f52",
   "metadata": {},
   "outputs": [
    {
     "name": "stdout",
     "output_type": "stream",
     "text": [
      "e\n"
     ]
    }
   ],
   "source": [
    "word = 'qwert'\n",
    "if len(word) % 2 == 0:\n",
    "    print(word[2:4])\n",
    "elif len(word) % 2 != 0:\n",
    "    print(word[2])"
   ]
  },
  {
   "cell_type": "markdown",
   "id": "f0e09e2d",
   "metadata": {},
   "source": [
    "Задание 2"
   ]
  },
  {
   "cell_type": "code",
   "execution_count": 207,
   "id": "eea157a9",
   "metadata": {},
   "outputs": [
    {
     "name": "stdout",
     "output_type": "stream",
     "text": [
      "Введите число 1\n",
      "Введите число 4\n",
      "Введите число 6\n",
      "Введите число 0\n",
      "Результат 0\n"
     ]
    }
   ],
   "source": [
    "x = int(input('Введите число '))\n",
    "while x != 0:\n",
    "    x = int(input('Введите число '))\n",
    "    y = x + x\n",
    "    pass\n",
    "print('Результат', y)"
   ]
  },
  {
   "cell_type": "markdown",
   "id": "ac926caf",
   "metadata": {},
   "source": [
    "Задание 3"
   ]
  },
  {
   "cell_type": "code",
   "execution_count": 237,
   "id": "aae38a45",
   "metadata": {},
   "outputs": [
    {
     "name": "stdout",
     "output_type": "stream",
     "text": [
      "Alex и Emma\n",
      "Arthur и Kate\n",
      "John и Kira\n",
      "Peter и Liza\n",
      "Richard и Trisha\n"
     ]
    }
   ],
   "source": [
    "boys = ['Peter', 'Alex', 'John', 'Arthur', 'Richard']\n",
    "girls = ['Kate', 'Liza', 'Kira', 'Emma', 'Trisha']\n",
    "list.sort(boys)\n",
    "list.sort(girls)\n",
    "if len(boys) == len(girls):\n",
    "    print(boys[0], 'и', girls[0])\n",
    "    print(boys[1], 'и', girls[1])\n",
    "    print(boys[2], 'и', girls[2])\n",
    "    print(boys[3], 'и', girls[3])\n",
    "    print(boys[4], 'и', girls[4])\n",
    "else:\n",
    "    print('Внимание, кто-то может остаться без пары!')"
   ]
  },
  {
   "cell_type": "markdown",
   "id": "38fbf7ee",
   "metadata": {},
   "source": [
    "\n",
    "Задание 4"
   ]
  },
  {
   "cell_type": "code",
   "execution_count": 389,
   "id": "ef1121c6",
   "metadata": {},
   "outputs": [
    {
     "name": "stdout",
     "output_type": "stream",
     "text": [
      "Средняя температура в странах:\n",
      " Thailand 23.85714285714285 C\n",
      " Germany 13.799999999999999 C\n",
      " Russia 3.714285714285717 C\n",
      " Poland 11.999999999999996 C\n"
     ]
    }
   ],
   "source": [
    "countries_temperature = [\n",
    "['Thailand', [75.2, 77, 78.8, 73.4, 68, 75.2, 77]],\n",
    "['Germany', [57.2, 55.4, 59, 59, 53.6]],\n",
    "['Russia', [35.6, 37.4, 39.2, 41, 42.8, 39.2, 35.6]],\n",
    "['Poland', [50, 50, 53.6, 57.2, 55.4, 55.4]]\n",
    "]\n",
    "new_list = [item for sublist in countries_temperature for item in sublist]\n",
    "print(f'Средняя температура в странах:\\n '\n",
    "    'Thailand', (sum(new_list[1]) / len(new_list[1]) - 32) * 5/9, 'C\\n',\n",
    "    'Germany', (sum(new_list[3]) / len(new_list[3]) - 32) * 5/9, 'C\\n',\n",
    "    'Russia', (sum(new_list[5]) / len(new_list[5]) - 32) * 5/9, 'C\\n',\n",
    "    'Poland', (sum(new_list[7]) / len(new_list[7]) - 32) * 5/9, 'C'\n",
    ")"
   ]
  },
  {
   "cell_type": "code",
   "execution_count": null,
   "id": "2f1b9550",
   "metadata": {},
   "outputs": [],
   "source": []
  }
 ],
 "metadata": {
  "kernelspec": {
   "display_name": "Python 3",
   "language": "python",
   "name": "python3"
  },
  "language_info": {
   "codemirror_mode": {
    "name": "ipython",
    "version": 3
   },
   "file_extension": ".py",
   "mimetype": "text/x-python",
   "name": "python",
   "nbconvert_exporter": "python",
   "pygments_lexer": "ipython3",
   "version": "3.8.8"
  }
 },
 "nbformat": 4,
 "nbformat_minor": 5
}
