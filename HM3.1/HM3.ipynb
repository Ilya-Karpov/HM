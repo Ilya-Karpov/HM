{
 "cells": [
  {
   "cell_type": "markdown",
   "id": "675f5aa2",
   "metadata": {},
   "source": [
    "Задание 1"
   ]
  },
  {
   "cell_type": "code",
   "execution_count": 18,
   "id": "7a3f3fac",
   "metadata": {},
   "outputs": [
    {
     "name": "stdout",
     "output_type": "stream",
     "text": [
      "{98, 35, 15, 213, 54, 119}\n"
     ]
    }
   ],
   "source": [
    "ids = {'user1': [213, 213, 213, 15, 213],\n",
    "'user2': [54, 54, 119, 119, 119],\n",
    "'user3': [213, 98, 98, 35]}\n",
    "newids = []\n",
    "for numeral in ids.values():\n",
    "    for one_line in numeral:     \n",
    "        newids.append(one_line)\n",
    "print(set(newids))"
   ]
  },
  {
   "cell_type": "markdown",
   "id": "570641f6",
   "metadata": {},
   "source": [
    "Задание 2"
   ]
  },
  {
   "cell_type": "code",
   "execution_count": 86,
   "id": "da5757e3",
   "metadata": {},
   "outputs": [
    {
     "name": "stdout",
     "output_type": "stream",
     "text": [
      "Поисковых запросов, содержащих 3 слов(а): 57.14285714285714 %\n",
      "Поисковых запросов, содержащих 2 слов(а): 42.857142857142854 %\n"
     ]
    }
   ],
   "source": [
    "queries = [\n",
    "    'смотреть сериалы онлайн',\n",
    "    'новости спорта',\n",
    "    'афиша кино',\n",
    "    'курс доллара',\n",
    "    'сериалы этим летом',\n",
    "    'курс по питону',\n",
    "    'сериалы про спорт',\n",
    "]\n",
    "dic_ = {}\n",
    "for query in queries:\n",
    "    words = query.split()\n",
    "    if len(words) in dic_.keys():\n",
    "        dic_[len(words)] += 1\n",
    "    else:\n",
    "        dic_.update({len(words):1})\n",
    "for key, value in dic_.items():\n",
    "    print('Поисковых запросов, содержащих', key, 'слов(а):', value / len(queries) * 100, '%')"
   ]
  },
  {
   "cell_type": "markdown",
   "id": "48c862c6",
   "metadata": {},
   "source": [
    "Задание 3"
   ]
  },
  {
   "cell_type": "code",
   "execution_count": 227,
   "id": "5d52085d",
   "metadata": {},
   "outputs": [
    {
     "name": "stdout",
     "output_type": "stream",
     "text": [
      "{'vk': {'revenue': 103, 'cost': 98, 'ROI': 5.102040816326525}, 'yandex': {'revenue': 179, 'cost': 153, 'ROI': 16.99346405228759}, 'facebook': {'revenue': 103, 'cost': 110, 'ROI': -6.36363636363636}, 'adwords': {'revenue': 35, 'cost': 34, 'ROI': 2.941176470588225}, 'twitter': {'revenue': 11, 'cost': 24, 'ROI': -54.16666666666667}}\n"
     ]
    }
   ],
   "source": [
    "results = {\n",
    "'vk': {'revenue': 103, 'cost': 98},\n",
    "'yandex': {'revenue': 179, 'cost': 153},\n",
    "'facebook': {'revenue': 103, 'cost': 110},\n",
    "'adwords': {'revenue': 35, 'cost': 34},\n",
    "'twitter': {'revenue': 11, 'cost': 24},\n",
    "}\n",
    "for value in results.values():\n",
    "    value['ROI'] = (value['revenue'] / value['cost'] - 1) * 100\n",
    "print(results)"
   ]
  },
  {
   "cell_type": "markdown",
   "id": "6bb08f03",
   "metadata": {},
   "source": [
    "Задание 4"
   ]
  },
  {
   "cell_type": "code",
   "execution_count": 331,
   "id": "50ef45be",
   "metadata": {},
   "outputs": [
    {
     "name": "stdout",
     "output_type": "stream",
     "text": [
      "Максимальный объем продаж на рекламном канале:  ['vk']\n"
     ]
    }
   ],
   "source": [
    "stats = {'facebook': 55, 'yandex': 115, 'vk': 120, 'google': 99, 'email': 42, 'ok': 98}\n",
    "reverse = {}\n",
    "for k, v in stats.items():\n",
    "    reverse[v] = reverse.get(v, []) + [k]\n",
    "print('Максимальный объем продаж на рекламном канале: ', reverse[max(stats.values())])"
   ]
  },
  {
   "cell_type": "code",
   "execution_count": null,
   "id": "262f449f",
   "metadata": {},
   "outputs": [],
   "source": []
  }
 ],
 "metadata": {
  "kernelspec": {
   "display_name": "Python 3",
   "language": "python",
   "name": "python3"
  },
  "language_info": {
   "codemirror_mode": {
    "name": "ipython",
    "version": 3
   },
   "file_extension": ".py",
   "mimetype": "text/x-python",
   "name": "python",
   "nbconvert_exporter": "python",
   "pygments_lexer": "ipython3",
   "version": "3.8.8"
  }
 },
 "nbformat": 4,
 "nbformat_minor": 5
}
