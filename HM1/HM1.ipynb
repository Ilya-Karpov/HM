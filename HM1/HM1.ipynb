{
 "cells": [
  {
   "cell_type": "code",
   "execution_count": 1,
   "id": "33030b3c",
   "metadata": {},
   "outputs": [
    {
     "name": "stdout",
     "output_type": "stream",
     "text": [
      "Фраза 2 длиннее фразы 1\n"
     ]
    }
   ],
   "source": [
    "phrase_1 = 'в этой фразе 23 символа'\n",
    "phrase_2 = 'а в этой фразе 26 символов'\n",
    "\n",
    "if len(phrase_1) > len(phrase_2):\n",
    "    print ('Фраза 1 длиннее фразы 2')\n",
    "elif len(phrase_1) < len(phrase_2):\n",
    "    print ('Фраза 2 длиннее фразы 1')\n",
    "elif len(phrase_1) == len(phrase_2):\n",
    "    print ('Фразы равной длины')"
   ]
  },
  {
   "cell_type": "code",
   "execution_count": 12,
   "id": "e0079225",
   "metadata": {},
   "outputs": [
    {
     "name": "stdout",
     "output_type": "stream",
     "text": [
      "Введите год 2013\n",
      "Обычный год\n"
     ]
    }
   ],
   "source": [
    "Year = int(input('Введите год '))\n",
    "if Year % 4 == 0:\n",
    "    print('Високостный год')\n",
    "else:\n",
    "    print('Обычный год')"
   ]
  },
  {
   "cell_type": "code",
   "execution_count": 81,
   "id": "ce54930e",
   "metadata": {},
   "outputs": [
    {
     "name": "stdout",
     "output_type": "stream",
     "text": [
      "Введите MM-DD рождения: 10-26\n",
      "Скорпион\n"
     ]
    }
   ],
   "source": [
    "BD = str(input('Введите MM-DD рождения: '))\n",
    "\n",
    "if '01-20' <= BD <= '02-18':\n",
    "    print('Водолей')\n",
    "elif '02-19' <= BD <= '03-20':\n",
    "    print('Рыбы')\n",
    "elif '03-21' <= BD <= '04-20':\n",
    "    print ('Овен')\n",
    "elif '04-21' <= BD <= '05-20':\n",
    "    print('Телец')\n",
    "elif '05-22' <= BD <= '06-21':\n",
    "    print('Близнецы')\n",
    "elif '06-21' <= BD <= '07-22':\n",
    "    print('Рак')\n",
    "elif '07-23' <= BD <= '08-22':\n",
    "    print('Лев')\n",
    "elif '08-23' <= BD <= '09-22':\n",
    "    print('Дева')\n",
    "elif '09-23' <= BD <= '10-22':\n",
    "    print('Весы')\n",
    "elif '10-23' <= BD <= '11-21':\n",
    "    print('Скорпион')\n",
    "elif '11-22' <= BD <= '12-21':\n",
    "    print('Стрелец')\n",
    "elif '12-22' <= BD <= '01-19':\n",
    "    print('Козерог')"
   ]
  },
  {
   "cell_type": "code",
   "execution_count": 90,
   "id": "217837fd",
   "metadata": {},
   "outputs": [
    {
     "name": "stdout",
     "output_type": "stream",
     "text": [
      "Коробка № 3\n"
     ]
    }
   ],
   "source": [
    "width = 15\n",
    "length = 15\n",
    "height = 15\n",
    "\n",
    "if width < 15 and length < 15 and height < 15:\n",
    "    print('Коробка № 1')\n",
    "elif 15 < width < 50 and 15 < length < 50 and 15 < height < 50:\n",
    "    print ('Коробка № 2')\n",
    "elif length > 200:\n",
    "    print ('Упаковка для лыж')\n",
    "else:\n",
    "    print ('Коробка № 3')"
   ]
  }
 ],
 "metadata": {
  "kernelspec": {
   "display_name": "Python 3",
   "language": "python",
   "name": "python3"
  },
  "language_info": {
   "codemirror_mode": {
    "name": "ipython",
    "version": 3
   },
   "file_extension": ".py",
   "mimetype": "text/x-python",
   "name": "python",
   "nbconvert_exporter": "python",
   "pygments_lexer": "ipython3",
   "version": "3.8.8"
  }
 },
 "nbformat": 4,
 "nbformat_minor": 5
}
