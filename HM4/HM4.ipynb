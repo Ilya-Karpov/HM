{
 "cells": [
  {
   "cell_type": "code",
   "execution_count": 1,
   "id": "036948e5",
   "metadata": {},
   "outputs": [],
   "source": [
    "documents = [\n",
    "{'type': 'passport', 'number': '2207 876234', 'name': 'Василий Гупкин'},\n",
    "{'type': 'invoice', 'number': '11-2', 'name': 'Геннадий Покемонов'},\n",
    "{'type': 'insurance', 'number': '10006', 'name': 'Аристарх Павлов'}\n",
    "]"
   ]
  },
  {
   "cell_type": "code",
   "execution_count": 2,
   "id": "035823b1",
   "metadata": {},
   "outputs": [],
   "source": [
    "directories = {\n",
    "'1': ['2207 876234', '11-2'],\n",
    "'2': ['10006'],\n",
    "'3': []\n",
    "}"
   ]
  },
  {
   "cell_type": "markdown",
   "id": "32bf1ec0",
   "metadata": {},
   "source": [
    "Пункт 1. Пользователь по команде “p” может узнать владельца документа по его номеру"
   ]
  },
  {
   "cell_type": "code",
   "execution_count": 3,
   "id": "d7a87e7e",
   "metadata": {},
   "outputs": [
    {
     "name": "stdout",
     "output_type": "stream",
     "text": [
      "Введите номер документа: 11-2\n",
      "Владелец документа:  Геннадий Покемонов\n"
     ]
    },
    {
     "data": {
      "text/plain": [
       "'11-2'"
      ]
     },
     "execution_count": 3,
     "metadata": {},
     "output_type": "execute_result"
    }
   ],
   "source": [
    "def doc_owner():\n",
    "    num = input('Введите номер документа: ')\n",
    "    for dictionary in documents:\n",
    "        if dictionary['number'] == num:\n",
    "            print('Владелец документа: ', dictionary['name'])\n",
    "            break\n",
    "    else:\n",
    "        print('Документ не найден в базе')\n",
    "    return num\n",
    "doc_owner()"
   ]
  },
  {
   "cell_type": "markdown",
   "id": "1c60bf96",
   "metadata": {},
   "source": [
    "Пункт 2. Пользователь по команде “s” может по номеру документа узнать на какой полке он хранится"
   ]
  },
  {
   "cell_type": "code",
   "execution_count": 55,
   "id": "dad46025",
   "metadata": {},
   "outputs": [
    {
     "name": "stdout",
     "output_type": "stream",
     "text": [
      "Введите номер документа: 10006\n"
     ]
    },
    {
     "data": {
      "text/plain": [
       "'Документ хранится на полке № 2'"
      ]
     },
     "execution_count": 55,
     "metadata": {},
     "output_type": "execute_result"
    }
   ],
   "source": [
    "def doc_number():\n",
    "    doc_num = input(\"Введите номер документа: \")\n",
    "    for shelf, number in directories.items():  \n",
    "        if  doc_num in number:\n",
    "            return f'Документ хранится на полке № {shelf}'\n",
    "            break\n",
    "    else:\n",
    "        return 'Документ не найден в базе'\n",
    "\n",
    "doc_number()"
   ]
  },
  {
   "cell_type": "markdown",
   "id": "b8c5e07b",
   "metadata": {},
   "source": [
    "Пункт 3. Пользователь по команде “l” может увидеть полную информацию по всем документам"
   ]
  },
  {
   "cell_type": "code",
   "execution_count": 70,
   "id": "0a2d8043",
   "metadata": {},
   "outputs": [
    {
     "name": "stdout",
     "output_type": "stream",
     "text": [
      "№:2207 876234, тип:passport, владелец:Василий Гупкин, полка хранения: <function doc_number at 0x0000028693F244C0>\n",
      "№:11-2, тип:invoice, владелец:Геннадий Покемонов, полка хранения: <function doc_number at 0x0000028693F244C0>\n",
      "№:10006, тип:insurance, владелец:Аристарх Павлов, полка хранения: <function doc_number at 0x0000028693F244C0>\n"
     ]
    }
   ],
   "source": [
    "def all_doc():\n",
    "    for direct in documents:\n",
    "        print(f\"№:{direct['number']}, тип:{direct['type']}, владелец:{direct['name']}, полка хранения: {doc_number}\")\n",
    "\n",
    "all_doc()"
   ]
  },
  {
   "cell_type": "markdown",
   "id": "aa7daba7",
   "metadata": {},
   "source": [
    "Пункт 4. Пользователь по команде “as” может добавить новую полку"
   ]
  },
  {
   "cell_type": "code",
   "execution_count": 72,
   "id": "71aa5c51",
   "metadata": {},
   "outputs": [
    {
     "name": "stdout",
     "output_type": "stream",
     "text": [
      "Введите номер новой полки: 7\n",
      "Такая полка уже существует. Текущий перечень полок: 1, 2, 3, 7\n"
     ]
    },
    {
     "data": {
      "text/plain": [
       "'7'"
      ]
     },
     "execution_count": 72,
     "metadata": {},
     "output_type": "execute_result"
    }
   ],
   "source": [
    "def add_shelf():\n",
    "    number = input(\"Введите номер новой полки: \")\n",
    "    if number in directories:\n",
    "        print(f'Такая полка уже существует. Текущий перечень полок: {\", \".join(list(directories.keys()))}')\n",
    "        return number\n",
    "    directories[number] = []\n",
    "    print(f'Полка добавлена. Текущий перечень полок: {\", \".join(list(directories.keys()))}')\n",
    "    return number\n",
    "\n",
    "add_shelf()"
   ]
  },
  {
   "cell_type": "markdown",
   "id": "77a697d1",
   "metadata": {},
   "source": [
    "Пункт 5. Пользователь по команде “ds” может удалить существующую полку из данных (только если она пустая)"
   ]
  },
  {
   "cell_type": "code",
   "execution_count": 73,
   "id": "6b8f49e1",
   "metadata": {},
   "outputs": [
    {
     "name": "stdout",
     "output_type": "stream",
     "text": [
      "Полка удалена. Текущий перечень полок: 1,2,3\n",
      "None\n"
     ]
    }
   ],
   "source": [
    "def delete_shelf(shelf):\n",
    "    if len(directories[shelf]) == 0:\n",
    "        del directories[shelf]\n",
    "        print(f'Полка удалена. Текущий перечень полок: {\",\".join(directories)}')\n",
    "    elif len(directories[shelf]) > 0:\n",
    "        print(f'На полке есть документы, удалите их перед удаленим полки. Текущий перечень полок: {\",\".join(directories)}')\n",
    "        return\n",
    "    elif directories[shelf] != 0:\n",
    "        print(f'Такой полки не существует. Текущий перечень полок: {\",\".join(directories)}')\n",
    "\n",
    "print(delete_shelf('10'))"
   ]
  },
  {
   "cell_type": "code",
   "execution_count": 76,
   "id": "3d94889d",
   "metadata": {},
   "outputs": [
    {
     "name": "stdout",
     "output_type": "stream",
     "text": [
      "Введите команду: as\n",
      "Введите номер новой полки: 10\n",
      "Полка добавлена. Текущий перечень полок: 1, 2, 3, 6, 10\n",
      "10\n",
      "Введите команду: ds\n",
      "Полка удалена. Текущий перечень полок: 1,2,3,6\n",
      "None\n",
      "Введите команду: p\n",
      "Введите номер документа: 10006\n",
      "Владелец документа:  Аристарх Павлов\n",
      "10006\n",
      "Введите команду: s\n",
      "Введите номер документа: 10006\n",
      "Документ хранится на полке № 2\n",
      "Введите команду: l\n",
      "№:2207 876234, тип:passport, владелец:Василий Гупкин, полка хранения: <function doc_number at 0x0000028693F244C0>\n",
      "№:11-2, тип:invoice, владелец:Геннадий Покемонов, полка хранения: <function doc_number at 0x0000028693F244C0>\n",
      "№:10006, тип:insurance, владелец:Аристарх Павлов, полка хранения: <function doc_number at 0x0000028693F244C0>\n",
      "Введите команду: as\n",
      "Введите номер новой полки: 10\n",
      "Полка добавлена. Текущий перечень полок: 1, 2, 3, 6, 10\n",
      "10\n",
      "Введите команду: ds\n",
      "Полка удалена. Текущий перечень полок: 1,2,3,6\n",
      "None\n",
      "Введите команду: q\n"
     ]
    }
   ],
   "source": [
    "def main(documents, directories):\n",
    "    while True:\n",
    "        command = input('Введите команду: ')\n",
    "        if command == 'p':\n",
    "            print(doc_owner())\n",
    "        elif command == 's':\n",
    "            print(doc_number())\n",
    "        elif command == 'l':\n",
    "            all_doc()\n",
    "        elif command == 'as':\n",
    "            print(add_shelf())\n",
    "        elif command == 'ds':\n",
    "            print(delete_shelf('10'))\n",
    "        elif command == 'q':\n",
    "            break\n",
    "        \n",
    "main(documents, directories)"
   ]
  }
 ],
 "metadata": {
  "kernelspec": {
   "display_name": "Python 3",
   "language": "python",
   "name": "python3"
  },
  "language_info": {
   "codemirror_mode": {
    "name": "ipython",
    "version": 3
   },
   "file_extension": ".py",
   "mimetype": "text/x-python",
   "name": "python",
   "nbconvert_exporter": "python",
   "pygments_lexer": "ipython3",
   "version": "3.8.8"
  }
 },
 "nbformat": 4,
 "nbformat_minor": 5
}
