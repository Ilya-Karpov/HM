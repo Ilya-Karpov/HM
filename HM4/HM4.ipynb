{
 "cells": [
  {
   "cell_type": "code",
   "execution_count": 1174,
   "id": "036948e5",
   "metadata": {},
   "outputs": [],
   "source": [
    "documents = [\n",
    "{'type': 'passport', 'number': '2207 876234', 'name': 'Василий Гупкин'},\n",
    "{'type': 'invoice', 'number': '11-2', 'name': 'Геннадий Покемонов'},\n",
    "{'type': 'insurance', 'number': '10006', 'name': 'Аристарх Павлов'}\n",
    "]"
   ]
  },
  {
   "cell_type": "code",
   "execution_count": 1175,
   "id": "035823b1",
   "metadata": {},
   "outputs": [],
   "source": [
    "directories = {\n",
    "'1': ['2207 876234', '11-2'],\n",
    "'2': ['10006'],\n",
    "'3': []\n",
    "}"
   ]
  },
  {
   "cell_type": "code",
   "execution_count": null,
   "id": "e78e293c",
   "metadata": {},
   "outputs": [
    {
     "name": "stdout",
     "output_type": "stream",
     "text": [
      "Введите команду: p\n",
      "Введите номер документа: 11-2\n",
      "Владелец документа:  Геннадий Покемонов\n",
      "11-2\n",
      "Введите команду: s\n",
      "Документ хранится на полке № 2\n",
      "Введите команду: l\n",
      "№:2207 876234, тип:passport, владелец:Василий Гупкин, полка хранения: Документ хранится на полке № 1\n",
      "№:11-2, тип:invoice, владелец:Геннадий Покемонов, полка хранения: Документ хранится на полке № 1\n",
      "№:10006, тип:insurance, владелец:Аристарх Павлов, полка хранения: Документ хранится на полке № 2\n",
      "None\n",
      "Введите команду: as\n",
      "Введите номер новой полки: 10\n",
      "Полка добавлена. Текущий перечень полок: 1, 2, 3, 10\n",
      "10\n",
      "Введите команду: ds\n",
      "Полка удалена. Текущий перечень полок: 1,2,3\n",
      "None\n"
     ]
    }
   ],
   "source": [
    "def main(documents, directories):\n",
    "    while True:\n",
    "        command = input('Введите команду: ')\n",
    "        if command == 'p':\n",
    "            print(doc_owner(documents))\n",
    "        elif command == 's':\n",
    "            print(doc_number('10006'))\n",
    "        elif command == 'l':\n",
    "            print(all_doc())\n",
    "        elif command == 'as':\n",
    "            print(add_shelf())\n",
    "        elif command == 'ds':\n",
    "            print(delete_shelf('10'))\n",
    "        elif command == 'q':\n",
    "            break\n",
    "        \n",
    "main(documents, directories)"
   ]
  },
  {
   "cell_type": "markdown",
   "id": "32bf1ec0",
   "metadata": {},
   "source": [
    "Пункт 1. Пользователь по команде “p” может узнать владельца документа по его номеру"
   ]
  },
  {
   "cell_type": "code",
   "execution_count": 1114,
   "id": "d7a87e7e",
   "metadata": {},
   "outputs": [
    {
     "name": "stdout",
     "output_type": "stream",
     "text": [
      "Введите номер документа: 10006\n",
      "Владелец документа:  Аристарх Павлов\n"
     ]
    },
    {
     "data": {
      "text/plain": [
       "'10006'"
      ]
     },
     "execution_count": 1114,
     "metadata": {},
     "output_type": "execute_result"
    }
   ],
   "source": [
    "def doc_owner(documents):\n",
    "    num = input('Введите номер документа: ')\n",
    "    for dictionary in documents:\n",
    "        if dictionary['number'] == num:\n",
    "            print('Владелец документа: ', dictionary['name'])\n",
    "            break\n",
    "    else:\n",
    "        print('Документ не найден в базе')\n",
    "    return num\n",
    "doc_owner(documents)"
   ]
  },
  {
   "cell_type": "markdown",
   "id": "1c60bf96",
   "metadata": {},
   "source": [
    "Пункт 2. Пользователь по команде “s” может по номеру документа узнать на какой полке он хранится"
   ]
  },
  {
   "cell_type": "code",
   "execution_count": 1167,
   "id": "f983e771",
   "metadata": {},
   "outputs": [
    {
     "data": {
      "text/plain": [
       "'Документ хранится на полке № 2'"
      ]
     },
     "execution_count": 1167,
     "metadata": {},
     "output_type": "execute_result"
    }
   ],
   "source": [
    "def doc_number(num):\n",
    "    for shelf, number in directories.items():\n",
    "            if  num in number:\n",
    "                return(f'Документ хранится на полке № {shelf}')\n",
    "            \n",
    "    else:\n",
    "        return('Документ не найден в базе')\n",
    "\n",
    "doc_number('10006')"
   ]
  },
  {
   "cell_type": "markdown",
   "id": "7f14d1bc",
   "metadata": {},
   "source": [
    "Пункт 3. Пользователь по команде “l” может увидеть полную информацию по всем документам"
   ]
  },
  {
   "cell_type": "code",
   "execution_count": 1168,
   "id": "0a2d8043",
   "metadata": {},
   "outputs": [
    {
     "name": "stdout",
     "output_type": "stream",
     "text": [
      "№:2207 876234, тип:passport, владелец:Василий Гупкин, полка хранения: Документ хранится на полке № 1\n",
      "№:11-2, тип:invoice, владелец:Геннадий Покемонов, полка хранения: Документ хранится на полке № 1\n",
      "№:10006, тип:insurance, владелец:Аристарх Павлов, полка хранения: Документ хранится на полке № 2\n"
     ]
    }
   ],
   "source": [
    "def all_doc():\n",
    "    for direct in documents:\n",
    "        print(f\"№:{direct['number']}, тип:{direct['type']}, владелец:{direct['name']}, полка хранения: {doc_number(direct['number'])}\")\n",
    "\n",
    "all_doc()"
   ]
  },
  {
   "cell_type": "markdown",
   "id": "b8d43024",
   "metadata": {},
   "source": [
    "Пункт 4. Пользователь по команде “as” может добавить новую полку"
   ]
  },
  {
   "cell_type": "code",
   "execution_count": 1183,
   "id": "267cdd6c",
   "metadata": {},
   "outputs": [
    {
     "name": "stdout",
     "output_type": "stream",
     "text": [
      "Введите номер новой полки: 10\n",
      "Полка добавлена. Текущий перечень полок: 1, 2, 3, 10\n"
     ]
    },
    {
     "data": {
      "text/plain": [
       "'10'"
      ]
     },
     "execution_count": 1183,
     "metadata": {},
     "output_type": "execute_result"
    }
   ],
   "source": [
    "def add_shelf():\n",
    "    number = input(\"Введите номер новой полки: \")\n",
    "    if number in directories:\n",
    "        print(f'Такая полка уже существует. Текущий перечень полок: {\", \".join(list(directories.keys()))}')\n",
    "        return number\n",
    "    directories[number] = []\n",
    "    print(f'Полка добавлена. Текущий перечень полок: {\", \".join(list(directories.keys()))}')\n",
    "    return number\n",
    "\n",
    "add_shelf()"
   ]
  },
  {
   "cell_type": "markdown",
   "id": "1d8c5008",
   "metadata": {},
   "source": [
    "Пункт 5. Пользователь по команде “ds” может удалить существующую полку из данных (только если она пустая)"
   ]
  },
  {
   "cell_type": "code",
   "execution_count": 1184,
   "id": "14c3c986",
   "metadata": {},
   "outputs": [
    {
     "name": "stdout",
     "output_type": "stream",
     "text": [
      "Полка удалена. Текущий перечень полок: 1,2,3\n",
      "None\n"
     ]
    }
   ],
   "source": [
    "def delete_shelf(shelf):\n",
    "    if len(directories[shelf]) == 0:\n",
    "        del directories[shelf]\n",
    "        print(f'Полка удалена. Текущий перечень полок: {\",\".join(directories)}')\n",
    "    elif len(directories[shelf]) > 0:\n",
    "        print(f'На полке есть документы, удалите их перед удаленим полки. Текущий перечень полок: {\",\".join(directories)}')\n",
    "        return\n",
    "    elif directories[shelf] != 0:\n",
    "        print(f'Такой полки не существует. Текущий перечень полок: {\",\".join(directories)}')\n",
    "\n",
    "print(delete_shelf('10'))"
   ]
  }
 ],
 "metadata": {
  "kernelspec": {
   "display_name": "Python 3",
   "language": "python",
   "name": "python3"
  },
  "language_info": {
   "codemirror_mode": {
    "name": "ipython",
    "version": 3
   },
   "file_extension": ".py",
   "mimetype": "text/x-python",
   "name": "python",
   "nbconvert_exporter": "python",
   "pygments_lexer": "ipython3",
   "version": "3.8.8"
  }
 },
 "nbformat": 4,
 "nbformat_minor": 5
}
