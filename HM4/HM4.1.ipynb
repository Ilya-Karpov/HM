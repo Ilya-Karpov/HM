{
 "cells": [
  {
   "cell_type": "code",
   "execution_count": 99,
   "id": "0b3a9241",
   "metadata": {},
   "outputs": [],
   "source": [
    "documents = [\n",
    "    {\"type\": \"passport\", \"number\": \"2207 876234\", \"name\": \"Василий Гупкин\"},\n",
    "    {\"type\": \"invoice\", \"number\": \"11-2\", \"name\": \"Геннадий Покемонов\"},\n",
    "    {\"type\": \"insurance\", \"number\": \"10006\", \"name\": \"Аристарх Павлов\"}\n",
    "]"
   ]
  },
  {
   "cell_type": "code",
   "execution_count": 100,
   "id": "0fc7f01f",
   "metadata": {},
   "outputs": [],
   "source": [
    "directories = {\n",
    "    '1': ['2207 876234', '11-2', '5455 028765'],\n",
    "    '2': ['10006', '5400 028765', '5455 002299'],\n",
    "    '3': []\n",
    "}"
   ]
  },
  {
   "cell_type": "code",
   "execution_count": 101,
   "id": "727d556a",
   "metadata": {},
   "outputs": [
    {
     "name": "stdout",
     "output_type": "stream",
     "text": [
      "Введите номер документа: 10006\n",
      "Владелец документа:  Аристарх Павлов\n"
     ]
    }
   ],
   "source": [
    "def doc_owner():\n",
    "    num = input('Введите номер документа: ')\n",
    "    for dictionary in documents:\n",
    "        if dictionary['number'] == num:\n",
    "            print('Владелец документа: ', dictionary['name'])\n",
    "            break\n",
    "    else:\n",
    "        print('Документ не найден в базе')\n",
    "#    return num\n",
    "doc_owner()"
   ]
  },
  {
   "cell_type": "code",
   "execution_count": 102,
   "id": "fe37f64f",
   "metadata": {},
   "outputs": [],
   "source": [
    "def doc_number(doc):\n",
    "    for shelf, number in directories.items():  \n",
    "        if  doc in number:\n",
    "            return f'Документ хранится на полке № {shelf}'\n",
    "            break\n",
    "    else:\n",
    "        return 'Документ не найден в базе'"
   ]
  },
  {
   "cell_type": "code",
   "execution_count": 103,
   "id": "8e489a72",
   "metadata": {},
   "outputs": [],
   "source": [
    "def all_doc():\n",
    "    for direct in documents:\n",
    "        print(f\"№:{direct['number']}, тип:{direct['type']}, владелец:{direct['name']}, полка хранения: {doc_number(direct['number'])}\")"
   ]
  },
  {
   "cell_type": "code",
   "execution_count": 104,
   "id": "b2096210",
   "metadata": {},
   "outputs": [
    {
     "name": "stdout",
     "output_type": "stream",
     "text": [
      "Введите номер новой полки: 10\n",
      "Полка добавлена. Текущий перечень полок: 1, 2, 3, 10\n"
     ]
    }
   ],
   "source": [
    "def add_shelf():\n",
    "    number = input(\"Введите номер новой полки: \")\n",
    "    if number in directories:\n",
    "        print(f'Такая полка уже существует. Текущий перечень полок: {\", \".join(list(directories.keys()))}')\n",
    "        return number\n",
    "    directories[number] = []\n",
    "    print(f'Полка добавлена. Текущий перечень полок: {\", \".join(list(directories.keys()))}')\n",
    "#    return number\n",
    "\n",
    "add_shelf()"
   ]
  },
  {
   "cell_type": "code",
   "execution_count": 108,
   "id": "eff250da",
   "metadata": {},
   "outputs": [
    {
     "name": "stdout",
     "output_type": "stream",
     "text": [
      "Введите номер полки: 10\n"
     ]
    },
    {
     "data": {
      "text/plain": [
       "'Такой полки не существует. Текущий перечень полок: 1,2,3'"
      ]
     },
     "execution_count": 108,
     "metadata": {},
     "output_type": "execute_result"
    }
   ],
   "source": [
    "def delete_shelf():\n",
    "    shelf = input(\"Введите номер полки: \")\n",
    "    if shelf in directories:\n",
    "        if len(directories[shelf]) == 0:\n",
    "            del directories[shelf]\n",
    "            return f'Полка удалена. Текущий перечень полок: {\",\".join(directories)}'\n",
    "        elif len(directories[shelf]) > 0:\n",
    "            return f'На полке есть документы, удалите их перед удаленим полки. Текущий перечень полок: {\",\".join(directories)}'\n",
    "    else:\n",
    "        return f'Такой полки не существует. Текущий перечень полок: {\",\".join(directories)}'\n",
    "\n",
    "delete_shelf()"
   ]
  },
  {
   "cell_type": "code",
   "execution_count": 109,
   "id": "7d35592d",
   "metadata": {},
   "outputs": [
    {
     "name": "stdout",
     "output_type": "stream",
     "text": [
      "Введите команду: p\n",
      "Введите номер документа: 10006\n",
      "Владелец документа:  Аристарх Павлов\n",
      "Введите команду: p\n",
      "Введите номер документа: 11-2\n",
      "Владелец документа:  Геннадий Покемонов\n",
      "Введите команду: s\n",
      "Введите документ: 10006\n",
      "Документ хранится на полке № 2\n",
      "Введите команду: s\n",
      "Введите документ: 11-2\n",
      "Документ хранится на полке № 1\n",
      "Введите команду: l\n",
      "№:2207 876234, тип:passport, владелец:Василий Гупкин, полка хранения: Документ хранится на полке № 1\n",
      "№:11-2, тип:invoice, владелец:Геннадий Покемонов, полка хранения: Документ хранится на полке № 1\n",
      "№:10006, тип:insurance, владелец:Аристарх Павлов, полка хранения: Документ хранится на полке № 2\n",
      "Введите команду: as\n",
      "Введите номер новой полки: 10\n",
      "Полка добавлена. Текущий перечень полок: 1, 2, 3, 10\n",
      "Введите команду: as\n",
      "Введите номер новой полки: 10\n",
      "Такая полка уже существует. Текущий перечень полок: 1, 2, 3, 10\n",
      "Введите команду: ds\n",
      "Введите номер полки: 1\n",
      "На полке есть документы, удалите их перед удаленим полки. Текущий перечень полок: 1,2,3,10\n",
      "Введите команду: ds\n",
      "Введите номер полки: 2\n",
      "На полке есть документы, удалите их перед удаленим полки. Текущий перечень полок: 1,2,3,10\n",
      "Введите команду: ds\n",
      "Введите номер полки: 10\n",
      "Полка удалена. Текущий перечень полок: 1,2,3\n",
      "Введите команду: ds\n",
      "Введите номер полки: 10\n",
      "Такой полки не существует. Текущий перечень полок: 1,2,3\n",
      "Введите команду: q\n"
     ]
    }
   ],
   "source": [
    "def main(documents, directories):\n",
    "    while True:\n",
    "        command = input('Введите команду: ')\n",
    "        if command == 'p':\n",
    "            doc_owner()\n",
    "        elif command == 's':\n",
    "            doc_input = input('Введите документ: ')\n",
    "            print(doc_number(doc_input))\n",
    "        elif command == 'l':\n",
    "            all_doc()\n",
    "        elif command == 'as':\n",
    "            add_shelf()\n",
    "        elif command == 'ds':\n",
    "            print(delete_shelf())\n",
    "        elif command == 'q':\n",
    "            break\n",
    "        \n",
    "main(documents, directories)"
   ]
  }
 ],
 "metadata": {
  "kernelspec": {
   "display_name": "Python 3",
   "language": "python",
   "name": "python3"
  },
  "language_info": {
   "codemirror_mode": {
    "name": "ipython",
    "version": 3
   },
   "file_extension": ".py",
   "mimetype": "text/x-python",
   "name": "python",
   "nbconvert_exporter": "python",
   "pygments_lexer": "ipython3",
   "version": "3.8.8"
  }
 },
 "nbformat": 4,
 "nbformat_minor": 5
}
