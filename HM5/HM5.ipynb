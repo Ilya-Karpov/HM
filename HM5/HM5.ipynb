{
 "cells": [
  {
   "cell_type": "markdown",
   "id": "8d06d88c",
   "metadata": {},
   "source": [
    "Переведите содержимое файла purchase_log.txt в словарь purchases"
   ]
  },
  {
   "cell_type": "code",
   "execution_count": 120,
   "id": "7109fcd7",
   "metadata": {},
   "outputs": [],
   "source": [
    "import json\n",
    "purchase = {}\n",
    "with open('purchase_log.txt', 'r', encoding='utf-8') as f:\n",
    "    for line in f:\n",
    "        line = line.strip()\n",
    "        dict_ = json.loads(line)\n",
    "        key = dict_['user_id']\n",
    "        value = dict_['category']\n",
    "        purchase.setdefault(key, value)"
   ]
  },
  {
   "cell_type": "markdown",
   "id": "a3384f8c",
   "metadata": {},
   "source": [
    "Для каждого user_id в файле visit_log.csv определите третий столбец с категорией покупки (если покупка была, сам файл visit_log.csv изменять не надо). Запишите в файл funnel.csv визиты из файла visit_log.csv, в которых были покупки с указанием категории."
   ]
  },
  {
   "cell_type": "code",
   "execution_count": 134,
   "id": "624925ea",
   "metadata": {},
   "outputs": [],
   "source": [
    "with open('visit_log.csv', 'r') as f:\n",
    "    with open('funnel.csv', 'w') as f2write:\n",
    "        for line in f:\n",
    "            another_line = line.strip().split(',')\n",
    "            category = purchase.get(another_line[0])\n",
    "            if category != None:\n",
    "                another_line.append(category)\n",
    "                line = ', '.join(another_line) + \"\\n\"\n",
    "                f2write.write(line)"
   ]
  }
 ],
 "metadata": {
  "kernelspec": {
   "display_name": "Python 3",
   "language": "python",
   "name": "python3"
  },
  "language_info": {
   "codemirror_mode": {
    "name": "ipython",
    "version": 3
   },
   "file_extension": ".py",
   "mimetype": "text/x-python",
   "name": "python",
   "nbconvert_exporter": "python",
   "pygments_lexer": "ipython3",
   "version": "3.8.8"
  }
 },
 "nbformat": 4,
 "nbformat_minor": 5
}
